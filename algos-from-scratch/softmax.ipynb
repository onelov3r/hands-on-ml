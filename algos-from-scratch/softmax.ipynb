{
 "cells": [
  {
   "cell_type": "code",
   "execution_count": 321,
   "id": "2fca969f",
   "metadata": {},
   "outputs": [],
   "source": [
    "import numpy as np\n",
    "import pandas as pd\n",
    "import matplotlib.pyplot as plt\n",
    "import seaborn as sns"
   ]
  },
  {
   "cell_type": "code",
   "execution_count": 322,
   "id": "fa7f4d05",
   "metadata": {},
   "outputs": [],
   "source": [
    "from sklearn.datasets import load_iris\n",
    "\n",
    "iris = load_iris()\n",
    "X = iris[\"data\"][:, 3:]\n",
    "y = iris[\"target\"]\n",
    "X_with_bias = np.c_[np.ones([len(X), 1]), X]"
   ]
  },
  {
   "cell_type": "code",
   "execution_count": 323,
   "id": "64dc18a6",
   "metadata": {},
   "outputs": [],
   "source": [
    "def softmax_score(X, weights):\n",
    "    return X @ weights\n",
    "\n",
    "def softmax_func(scores):\n",
    "    exp_scores = np.exp(scores)\n",
    "    return exp_scores / np.sum(exp_scores, axis=1, keepdims=True)\n",
    "\n",
    "def softmax_classifier(probs):\n",
    "    return np.argmax(probs, axis=1)\n",
    "\n",
    "def x_entropy(probs):\n",
    "    pass\n",
    "\n",
    "def x_entropy_gradient(probs, X, y):\n",
    "    return (1 / len(X)) * (X.T @ (probs - y))"
   ]
  },
  {
   "cell_type": "code",
   "execution_count": 324,
   "id": "a2fd28eb",
   "metadata": {},
   "outputs": [],
   "source": [
    "def to_one_hot(y):\n",
    "    n_classes = y.max() + 1\n",
    "    m = len(y)\n",
    "    Y_one_hot = np.zeros((m, n_classes))\n",
    "    Y_one_hot[np.arange(m), y] = 1\n",
    "    return Y_one_hot"
   ]
  },
  {
   "cell_type": "code",
   "execution_count": 325,
   "id": "a839860e",
   "metadata": {},
   "outputs": [],
   "source": [
    "y_to_one_hot = to_one_hot(y)"
   ]
  },
  {
   "cell_type": "code",
   "execution_count": 326,
   "id": "a4db724d",
   "metadata": {},
   "outputs": [],
   "source": [
    "class MySoftmaxRegression():\n",
    "\n",
    "    iterations = 1000\n",
    "    learning_rate = 0.5\n",
    "    weigths = None\n",
    "\n",
    "    def fit(self, X, y):\n",
    "        weights = np.zeros((X.shape[1], y.shape[1]))    \n",
    "        for i in range(self.iterations):\n",
    "            scores = softmax_score(X, weights)\n",
    "            probs = softmax_func(scores)\n",
    "            weights -= self.learning_rate * x_entropy_gradient(probs, X, y)\n",
    "        self.weights = weights\n",
    "        print(weights)\n",
    "        return weights\n",
    "\n",
    "    def predict(self, X):\n",
    "        scores = softmax_score(X, self.weights)\n",
    "        probs = softmax_func(scores)\n",
    "        return softmax_classifier(probs)\n",
    "            \n"
   ]
  },
  {
   "cell_type": "code",
   "execution_count": 327,
   "id": "3279dd11",
   "metadata": {},
   "outputs": [
    {
     "name": "stdout",
     "output_type": "stream",
     "text": [
      "[[ 6.75576934  1.40957791 -8.16534725]\n",
      " [-6.95325362  0.53318029  6.42007333]]\n",
      "Accuracy: 1.00\n"
     ]
    }
   ],
   "source": [
    "softmax = MySoftmaxRegression()\n",
    "\n",
    "from sklearn.model_selection import train_test_split\n",
    "\n",
    "X_train, X_test, y_train, y_test = train_test_split(X_with_bias, y_to_one_hot, test_size=0.2, random_state=42)\n",
    "\n",
    "softmax.fit(X_train, y_train)\n",
    "\n",
    "y_pred = softmax.predict(X_test)\n",
    "y_test_labels = np.argmax(y_test, axis=1)\n",
    "accuracy = np.mean(y_pred == y_test_labels)\n",
    "print(f\"Accuracy: {accuracy:.2f}\")"
   ]
  },
  {
   "cell_type": "code",
   "execution_count": 328,
   "id": "f3894857",
   "metadata": {},
   "outputs": [
    {
     "name": "stdout",
     "output_type": "stream",
     "text": [
      "[[-2.27266364e-04 -3.94196871e+00]\n",
      " [-9.63558579e-05  1.32991023e-01]\n",
      " [ 3.23622222e-04  3.80897769e+00]]\n",
      "Model accuracy: 1.0\n"
     ]
    },
    {
     "name": "stderr",
     "output_type": "stream",
     "text": [
      "/opt/anaconda3/lib/python3.12/site-packages/sklearn/linear_model/_logistic.py:1247: FutureWarning: 'multi_class' was deprecated in version 1.5 and will be removed in 1.7. From then on, it will always use 'multinomial'. Leave it to its default value to avoid this warning.\n",
      "  warnings.warn(\n"
     ]
    }
   ],
   "source": [
    "model = LogisticRegression(multi_class='multinomial', solver='lbfgs', max_iter=1000)\n",
    "\n",
    "X_train, X_test, y_train, y_test = train_test_split(X_with_bias, y, test_size=0.2, random_state=42)\n",
    "# Train the model\n",
    "model.fit(X_train, y_train)\n",
    "print(model.coef_)\n",
    "\n",
    "# Make predictions\n",
    "predictions = model.predict(X_test)\n",
    "\n",
    "# Evaluate the model (e.g., accuracy)\n",
    "accuracy = model.score(X_test, y_test)\n",
    "print(f\"Model accuracy: {accuracy}\")"
   ]
  },
  {
   "cell_type": "code",
   "execution_count": 336,
   "id": "23154b36",
   "metadata": {},
   "outputs": [
    {
     "name": "stdout",
     "output_type": "stream",
     "text": [
      "[[0. 0. 0.]\n",
      " [0. 0. 0.]\n",
      " [0. 0. 0.]\n",
      " [0. 0. 0.]\n",
      " [0. 0. 0.]]\n",
      "[[1. 0. 0.]\n",
      " [0. 1. 0.]\n",
      " [0. 0. 1.]\n",
      " [0. 1. 0.]\n",
      " [1. 0. 0.]]\n"
     ]
    }
   ],
   "source": [
    "import numpy as np\n",
    "\n",
    "def to_categorical(x, n_col=None):\n",
    "    n_col = np.max(x)\n",
    "    one_hot_encoded = np.zeros((x.shape[0], n_col + 1))\n",
    "    print(one_hot_encoded)\n",
    "    for i in range(x.shape[0]):\n",
    "        one_hot_encoded[i, x[i]] = 1\n",
    "    return one_hot_encoded\n",
    "\n",
    "x = np.array([0, 1, 2, 1, 0])\n",
    "output = to_categorical(x)\n",
    "print(output)"
   ]
  }
 ],
 "metadata": {
  "kernelspec": {
   "display_name": "base",
   "language": "python",
   "name": "python3"
  },
  "language_info": {
   "codemirror_mode": {
    "name": "ipython",
    "version": 3
   },
   "file_extension": ".py",
   "mimetype": "text/x-python",
   "name": "python",
   "nbconvert_exporter": "python",
   "pygments_lexer": "ipython3",
   "version": "3.12.3"
  }
 },
 "nbformat": 4,
 "nbformat_minor": 5
}
